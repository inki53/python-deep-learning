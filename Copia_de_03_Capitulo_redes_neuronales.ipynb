{
  "nbformat": 4,
  "nbformat_minor": 0,
  "metadata": {
    "colab": {
      "provenance": [],
      "authorship_tag": "ABX9TyNLmc2YiziEBHfcY0ZsjcF+",
      "include_colab_link": true
    },
    "kernelspec": {
      "name": "python3",
      "display_name": "Python 3"
    },
    "language_info": {
      "name": "python"
    },
    "accelerator": "GPU",
    "gpuClass": "standard"
  },
  "cells": [
    {
      "cell_type": "markdown",
      "metadata": {
        "id": "view-in-github",
        "colab_type": "text"
      },
      "source": [
        "<a href=\"https://colab.research.google.com/github/inki53/python-deep-learning/blob/master/Copia_de_03_Capitulo_redes_neuronales.ipynb\" target=\"_parent\"><img src=\"https://colab.research.google.com/assets/colab-badge.svg\" alt=\"Open In Colab\"/></a>"
      ]
    },
    {
      "cell_type": "code",
      "execution_count": null,
      "metadata": {
        "id": "tQkzCDPoyQjR"
      },
      "outputs": [],
      "source": [
        "import numpy as np\n"
      ]
    },
    {
      "cell_type": "code",
      "source": [
        "x=np.array([[1,2,3,4,5,6]],dtype=np.int8)\n",
        "\n",
        "print(x)\n",
        "print(x,x.shape,sep='\\n')"
      ],
      "metadata": {
        "id": "PYladkU3zPXJ",
        "outputId": "6f3177b3-c697-46e6-b88a-d7b7009f9599",
        "colab": {
          "base_uri": "https://localhost:8080/"
        }
      },
      "execution_count": null,
      "outputs": [
        {
          "output_type": "stream",
          "name": "stdout",
          "text": [
            "[[1 2 3 4 5 6]]\n",
            "[[1 2 3 4 5 6]]\n",
            "(1, 6)\n"
          ]
        }
      ]
    },
    {
      "cell_type": "code",
      "source": [
        "y=np.reshape(x,(2,3))\n",
        "print(y)"
      ],
      "metadata": {
        "id": "ftmg-JSA1UcE"
      },
      "execution_count": null,
      "outputs": []
    },
    {
      "cell_type": "code",
      "source": [
        "z=np.reshape(x,(2,-1))\n",
        "print (z)"
      ],
      "metadata": {
        "id": "pill0AGjzxet",
        "outputId": "31aefdda-d373-49d1-d813-f84b69406b27",
        "colab": {
          "base_uri": "https://localhost:8080/"
        }
      },
      "execution_count": null,
      "outputs": [
        {
          "output_type": "stream",
          "name": "stdout",
          "text": [
            "[[1 2 3]\n",
            " [4 5 6]]\n"
          ]
        }
      ]
    },
    {
      "cell_type": "code",
      "source": [
        "#borrar o añadir dimensiones\n",
        "x=np.array([[1,2,3],[4,5,6]])\n",
        "print(x,x.ndim,x.size,x.shape,sep='\\n')"
      ],
      "metadata": {
        "id": "dSyDEXXy23Pg",
        "outputId": "e1c9e759-852c-415b-f24e-b802e525e279",
        "colab": {
          "base_uri": "https://localhost:8080/"
        }
      },
      "execution_count": null,
      "outputs": [
        {
          "output_type": "stream",
          "name": "stdout",
          "text": [
            "[[1 2 3]\n",
            " [4 5 6]]\n",
            "2\n",
            "6\n",
            "(2, 3)\n"
          ]
        }
      ]
    },
    {
      "cell_type": "code",
      "source": [
        "print (np.zeros ((3,3)))\n",
        "print (np.ones((3,3)))\n",
        "print (np.eye((4)))\n"
      ],
      "metadata": {
        "id": "kD5MGvE-PRhV",
        "outputId": "49efdd9e-0417-45a6-d267-6b91c5c84b86",
        "colab": {
          "base_uri": "https://localhost:8080/"
        }
      },
      "execution_count": null,
      "outputs": [
        {
          "output_type": "stream",
          "name": "stdout",
          "text": [
            "[[0. 0. 0.]\n",
            " [0. 0. 0.]\n",
            " [0. 0. 0.]]\n",
            "[[1. 1. 1.]\n",
            " [1. 1. 1.]\n",
            " [1. 1. 1.]]\n",
            "[[1. 0. 0. 0.]\n",
            " [0. 1. 0. 0.]\n",
            " [0. 0. 1. 0.]\n",
            " [0. 0. 0. 1.]]\n"
          ]
        }
      ]
    },
    {
      "cell_type": "code",
      "source": [
        "#Manipulacion tensores\n",
        "x=np.array([[1,2,3,4],[5,6,7,8],[9,10,11,12]])\n",
        "print (x)\n",
        "print (\"x col 2 \",x[:,1])\n",
        "print (\"x row 3 \",x [2:])\n",
        "print (\"x rows 0,1 & cols 1,2:\\n\",x[0:2,1:3]) #https://www.adamsmith.haus/python/answers/how-to-extract-specific-columns-from-a-numpy-array-in-python"
      ],
      "metadata": {
        "id": "NxD1mwJDP6Yc",
        "outputId": "14c24001-6adf-4429-fffe-6e6f394b4672",
        "colab": {
          "base_uri": "https://localhost:8080/"
        }
      },
      "execution_count": null,
      "outputs": [
        {
          "output_type": "stream",
          "name": "stdout",
          "text": [
            "[[ 1  2  3  4]\n",
            " [ 5  6  7  8]\n",
            " [ 9 10 11 12]]\n",
            "x col 2  [ 2  6 10]\n",
            "x row 3  [[ 9 10 11 12]]\n",
            "x rows 0,1 & cols 1,2:\n",
            " [[2 3]\n",
            " [6 7]]\n"
          ]
        }
      ]
    },
    {
      "cell_type": "code",
      "source": [
        "#multiplicacion arrays\n",
        "a=np.array([[1,2,3],[4,5,6]])\n",
        "b=np.array([[7,8],[9,10],[11,12]])\n",
        "c=a.dot(b)\n",
        "print (a,b,\"a x b \",c,sep='\\n')\n",
        "print (a.shape,\".\",b.shape,\"=\",c.shape)"
      ],
      "metadata": {
        "id": "lpUxgfmURTgc",
        "outputId": "6403617a-a84a-4095-e361-33632abd2b6a",
        "colab": {
          "base_uri": "https://localhost:8080/"
        }
      },
      "execution_count": null,
      "outputs": [
        {
          "output_type": "stream",
          "name": "stdout",
          "text": [
            "[[1 2 3]\n",
            " [4 5 6]]\n",
            "[[ 7  8]\n",
            " [ 9 10]\n",
            " [11 12]]\n",
            "a x b \n",
            "[[ 58  64]\n",
            " [139 154]]\n",
            "(2, 3) . (3, 2) = (2, 2)\n"
          ]
        }
      ]
    },
    {
      "cell_type": "code",
      "source": [
        "#Cambiar forma tensores:\n",
        "x=np.array([[1,2,3,4,5,6]])\n",
        "print(x,x.shape)\n",
        "y=np.reshape(x,(2,3))\n",
        "print (y, y.shape)\n"
      ],
      "metadata": {
        "id": "Ic1HxuTfUJmq",
        "outputId": "43b702dd-c14b-498d-c041-22a3aab3366e",
        "colab": {
          "base_uri": "https://localhost:8080/"
        }
      },
      "execution_count": null,
      "outputs": [
        {
          "output_type": "stream",
          "name": "stdout",
          "text": [
            "[[1 2 3 4 5 6]] (1, 6)\n",
            "[[1 2 3]\n",
            " [4 5 6]] (2, 3)\n"
          ]
        }
      ]
    },
    {
      "cell_type": "code",
      "source": [
        "#Añadir/borrar dimensiones\n",
        "x=np.array([[1,2,3],[4,5,6]])\n",
        "print(x,x.shape)\n",
        "y=np.expand_dims(x,1)\n",
        "print(y,y.shape)\n",
        "z=np.squeeze(y,1)\n",
        "print(z,z.shape)"
      ],
      "metadata": {
        "id": "NL8ZXj0PU7Ge",
        "outputId": "0db221e8-1a3d-49ca-a58c-30c1f8ed5815",
        "colab": {
          "base_uri": "https://localhost:8080/"
        }
      },
      "execution_count": null,
      "outputs": [
        {
          "output_type": "stream",
          "name": "stdout",
          "text": [
            "[[1 2 3]\n",
            " [4 5 6]] (2, 3)\n",
            "[[[1 2 3]]\n",
            "\n",
            " [[4 5 6]]] (2, 1, 3)\n",
            "[[1 2 3]\n",
            " [4 5 6]] (2, 3)\n"
          ]
        }
      ]
    },
    {
      "cell_type": "code",
      "source": [
        "#Valor maximo en un tensor   Axis explained in=https://www.sharpsightlabs.com/blog/numpy-axes-explained/\n",
        "x=np.array([[1,2],[3,4]])\n",
        "print(np.max(x),np.argmax(x))\n",
        "print(np.max(x, axis=0))"
      ],
      "metadata": {
        "id": "U4SYaryUWIKk",
        "outputId": "f35cdd31-af85-4520-8d4c-9b8c084e7fd5",
        "colab": {
          "base_uri": "https://localhost:8080/"
        }
      },
      "execution_count": null,
      "outputs": [
        {
          "output_type": "stream",
          "name": "stdout",
          "text": [
            "4 3\n",
            "[3 4]\n"
          ]
        }
      ]
    },
    {
      "cell_type": "code",
      "source": [],
      "metadata": {
        "id": "GO3Ch-MeVh3A"
      },
      "execution_count": null,
      "outputs": []
    }
  ]
}